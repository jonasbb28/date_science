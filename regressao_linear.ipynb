{
 "cells": [
  {
   "cell_type": "code",
   "execution_count": 2,
   "id": "3c13e36c-50bc-4463-832b-2c645a6ed043",
   "metadata": {},
   "outputs": [],
   "source": [
    "import pandas as pd\n",
    "import seaborn as sns\n",
    "\n",
    "from sklearn.model_selection import train_test_split # separa o banco de dados em testes e treinos\n",
    "from sklearn.linear_model import LinearRegression #criar o modelo\n",
    "from sklearn.metrics import mean_absolute_error # calcula o erro absoluto entre as respostas previstas e teste"
   ]
  },
  {
   "cell_type": "code",
   "execution_count": null,
   "id": "fa001cad-d26b-4163-b574-c2c7535e1bbe",
   "metadata": {},
   "outputs": [],
   "source": [
    "df = pd.read_csv(\"Arquivo.csv\")"
   ]
  },
  {
   "cell_type": "code",
   "execution_count": null,
   "id": "d6be9077-2249-4011-a373-a5f2ff15c023",
   "metadata": {},
   "outputs": [],
   "source": [
    "df.corr()"
   ]
  },
  {
   "cell_type": "code",
   "execution_count": null,
   "id": "aa7fdf02-b093-489d-b5a0-c49b77722f6a",
   "metadata": {},
   "outputs": [],
   "source": [
    "x = [[]] # Caracteristicas\n",
    "y = [] # Alvo"
   ]
  },
  {
   "cell_type": "code",
   "execution_count": null,
   "id": "3ddc82c9-cbda-4491-b3d2-6c89eebd71f5",
   "metadata": {},
   "outputs": [],
   "source": [
    "x_treino, x_teste, y_treino, y_teste = train_test_split(x, y) # separação do dataset para informações de treinamento e testes"
   ]
  },
  {
   "cell_type": "code",
   "execution_count": null,
   "id": "ccd91220-16fb-45a5-a8eb-04143dd2e0ae",
   "metadata": {},
   "outputs": [],
   "source": [
    "modelo = LinearRegression() # criação de um modelo de regreção linear"
   ]
  },
  {
   "cell_type": "code",
   "execution_count": null,
   "id": "19e1f983-3a9a-4d12-a8d8-d67b8d478e0d",
   "metadata": {},
   "outputs": [],
   "source": [
    "modelo.fit(x_treino, y_treino) # treinamneot da regressão linear com as informações do dataset"
   ]
  },
  {
   "cell_type": "code",
   "execution_count": null,
   "id": "51a5b034-66d4-4094-aa5b-56730aed9f81",
   "metadata": {},
   "outputs": [],
   "source": [
    "y_previsto = modelo.predict(x_teste) # testando o modelo para a criação de resultados com base nas caracteristicas reservadas para testes"
   ]
  },
  {
   "cell_type": "code",
   "execution_count": null,
   "id": "135f6c45-fbe5-4238-adca-2225fb4addb9",
   "metadata": {},
   "outputs": [],
   "source": [
    "mean_absolute_error(y_previsto, y_teste) # comparando as respostas previstas pelo modelo com as verdadeiras"
   ]
  }
 ],
 "metadata": {
  "kernelspec": {
   "display_name": "Python 3 (ipykernel)",
   "language": "python",
   "name": "python3"
  },
  "language_info": {
   "codemirror_mode": {
    "name": "ipython",
    "version": 3
   },
   "file_extension": ".py",
   "mimetype": "text/x-python",
   "name": "python",
   "nbconvert_exporter": "python",
   "pygments_lexer": "ipython3",
   "version": "3.11.0"
  }
 },
 "nbformat": 4,
 "nbformat_minor": 5
}
