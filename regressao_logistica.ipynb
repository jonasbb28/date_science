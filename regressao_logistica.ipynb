{
 "cells": [
  {
   "cell_type": "code",
   "execution_count": 7,
   "id": "6db16de5-0896-4fd1-ad2e-3e57d481ef9f",
   "metadata": {},
   "outputs": [],
   "source": [
    "import pandas as pd\n",
    "\n",
    "from sklearn.linear_model import LogisticRegression #criar o modelo\n",
    "from sklearn.model_selection import train_test_split # separa o banco de dados em testes e treinos\n",
    "from mlxtend.plotting import plot_confusion_matrix\n",
    "from sklearn.metrics import confusion_matrix, classification_report # calcula o erro absoluto entre as respostas previstas e teste"
   ]
  },
  {
   "cell_type": "code",
   "execution_count": null,
   "id": "547ace5e-b1b1-440e-9490-fe6dbcbf239a",
   "metadata": {},
   "outputs": [],
   "source": [
    "df = pd.read_csv(\"Arquivo.csv\")\n",
    "df.info()"
   ]
  },
  {
   "cell_type": "code",
   "execution_count": null,
   "id": "e47efc3f-4a4f-402d-8426-209108c2d447",
   "metadata": {},
   "outputs": [],
   "source": [
    "x = df.drop(columns=[\"\",\"\"], axis=1) # excluit colunas\n",
    "y = df[\"\"]"
   ]
  },
  {
   "cell_type": "code",
   "execution_count": null,
   "id": "2b222313-7177-4b2a-a7d3-78bc8cda1945",
   "metadata": {},
   "outputs": [],
   "source": [
    "x_treino, x_teste, y_treino, y_teste = train_test_split(x,y)"
   ]
  },
  {
   "cell_type": "code",
   "execution_count": null,
   "id": "3ad2035a-169c-4a12-942f-f1149b2c7979",
   "metadata": {},
   "outputs": [],
   "source": [
    "modelo = LogisticRegression(max_iter=10000)"
   ]
  },
  {
   "cell_type": "code",
   "execution_count": null,
   "id": "ec954ed8-7d3d-4b12-a02e-99047091f15a",
   "metadata": {},
   "outputs": [],
   "source": [
    "modelo.fit(x_treino, y_treino)"
   ]
  },
  {
   "cell_type": "code",
   "execution_count": null,
   "id": "6fb14b55-c6fc-4e23-8c84-729a04ec19e6",
   "metadata": {},
   "outputs": [],
   "source": [
    "y_previsto = modelo.predict(x_teste)"
   ]
  },
  {
   "cell_type": "code",
   "execution_count": null,
   "id": "9effa433-99d4-4a45-a863-f891981a0b5c",
   "metadata": {},
   "outputs": [],
   "source": [
    "cm = confusion_matrix(y_previsto, y_teste) # criar a matrix de confusão"
   ]
  },
  {
   "cell_type": "code",
   "execution_count": null,
   "id": "c35cc7fe-a2a4-4837-bef2-580372652319",
   "metadata": {},
   "outputs": [],
   "source": [
    "plot_confusion_matrix(cm) # plotar o grafico na tela"
   ]
  },
  {
   "cell_type": "code",
   "execution_count": null,
   "id": "10ce1de1-b619-484e-94c2-e6609ef4e9fb",
   "metadata": {},
   "outputs": [],
   "source": [
    "print(classification_report(y_previsto, y_teste)) # verificar o recall, precisao, score da previsao"
   ]
  }
 ],
 "metadata": {
  "kernelspec": {
   "display_name": "Python 3 (ipykernel)",
   "language": "python",
   "name": "python3"
  },
  "language_info": {
   "codemirror_mode": {
    "name": "ipython",
    "version": 3
   },
   "file_extension": ".py",
   "mimetype": "text/x-python",
   "name": "python",
   "nbconvert_exporter": "python",
   "pygments_lexer": "ipython3",
   "version": "3.11.0"
  }
 },
 "nbformat": 4,
 "nbformat_minor": 5
}
