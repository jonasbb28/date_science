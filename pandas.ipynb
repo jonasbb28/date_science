{
 "cells": [
  {
   "cell_type": "code",
   "execution_count": 1,
   "id": "db3821dc-63ba-49ae-abb4-dcbe312694b5",
   "metadata": {},
   "outputs": [],
   "source": [
    "import pandas as pd"
   ]
  },
  {
   "cell_type": "code",
   "execution_count": 3,
   "id": "b6f884b8-bbfc-4908-9813-b9f111359c64",
   "metadata": {},
   "outputs": [],
   "source": [
    "lista = [12, 23, 34, 56, 67]\n",
    "serie_pandas = pd.Series(lista)"
   ]
  },
  {
   "cell_type": "code",
   "execution_count": 5,
   "id": "ec4db6d1-c42b-48a7-b5ea-55b05d5d201f",
   "metadata": {},
   "outputs": [
    {
     "name": "stdout",
     "output_type": "stream",
     "text": [
      "12\n"
     ]
    }
   ],
   "source": [
    "print(serie_pandas[0])"
   ]
  },
  {
   "cell_type": "code",
   "execution_count": 7,
   "id": "0bb99072-3711-441c-b469-7c7b03f150d0",
   "metadata": {},
   "outputs": [],
   "source": [
    "notas = {\"Thiago\": 8.0, \"Ghilerme\": 9.0, \"Juca\": 2.2}"
   ]
  },
  {
   "cell_type": "code",
   "execution_count": 9,
   "id": "7caaac65-1126-4e87-bd50-6975113cca2d",
   "metadata": {},
   "outputs": [
    {
     "name": "stdout",
     "output_type": "stream",
     "text": [
      "Thiago      8.0\n",
      "Ghilerme    9.0\n",
      "Juca        2.2\n",
      "dtype: float64\n"
     ]
    }
   ],
   "source": [
    "serie_notas = pd.Series(notas)\n",
    "print(serie_notas[\"Thiago\"])"
   ]
  },
  {
   "cell_type": "code",
   "execution_count": 10,
   "id": "12eff760-aacd-405c-8d95-f344c2efcacb",
   "metadata": {},
   "outputs": [
    {
     "name": "stdout",
     "output_type": "stream",
     "text": [
      "6.3999999999999995\n"
     ]
    }
   ],
   "source": [
    "print(serie_notas.mean())\n",
    "print(serie_notas.median())\n"
   ]
  },
  {
   "cell_type": "code",
   "execution_count": 11,
   "id": "558abc0f-97ce-43eb-b887-69db32e6bc3b",
   "metadata": {},
   "outputs": [
    {
     "name": "stdout",
     "output_type": "stream",
     "text": [
      "count    3.000000\n",
      "mean     6.400000\n",
      "std      3.671512\n",
      "min      2.200000\n",
      "25%      5.100000\n",
      "50%      8.000000\n",
      "75%      8.500000\n",
      "max      9.000000\n",
      "dtype: float64\n"
     ]
    }
   ],
   "source": [
    "print(serie_notas.describe())"
   ]
  },
  {
   "cell_type": "code",
   "execution_count": 12,
   "id": "a50c9a83-eb47-4099-ae13-7d1a7102f469",
   "metadata": {},
   "outputs": [
    {
     "name": "stdout",
     "output_type": "stream",
     "text": [
      "19.2\n"
     ]
    }
   ],
   "source": [
    "print(serie_notas.sum())"
   ]
  },
  {
   "cell_type": "code",
   "execution_count": 19,
   "id": "6629e4f3-f0b5-4c51-9f8d-410a9fbd8d89",
   "metadata": {},
   "outputs": [],
   "source": [
    "# dataframe\n",
    "dicio = {\"Autores\": [\"Jorge\", \"martin\", \"Jonas\"],\n",
    "         \"Livros\": [\"O ultimo\", \"O vencedor\", \"Jogador\"],\n",
    "         \"Precos\": [43.5, 56.7, 70.9]}\n",
    "df = pd.DataFrame(dicio)"
   ]
  },
  {
   "cell_type": "code",
   "execution_count": 20,
   "id": "5dff5f69-1807-46dc-a868-ac33a4a6b20c",
   "metadata": {},
   "outputs": [
    {
     "name": "stdout",
     "output_type": "stream",
     "text": [
      "  Autores      Livros  Precos\n",
      "0   Jorge    O ultimo    43.5\n",
      "1  martin  O vencedor    56.7\n",
      "2   Jonas     Jogador    70.9\n"
     ]
    }
   ],
   "source": [
    "print(df)"
   ]
  },
  {
   "cell_type": "code",
   "execution_count": 21,
   "id": "d3a86751-f79f-477b-88fb-fb2248a6c41c",
   "metadata": {},
   "outputs": [
    {
     "name": "stdout",
     "output_type": "stream",
     "text": [
      "0     True\n",
      "1    False\n",
      "2    False\n",
      "Name: Autores, dtype: bool\n"
     ]
    }
   ],
   "source": [
    "mascara = df[\"Autores\"] == \"Jorge\"\n",
    "print(mascara)"
   ]
  },
  {
   "cell_type": "code",
   "execution_count": 27,
   "id": "763e4bc1-f682-4d4d-b7c1-db968ab76e84",
   "metadata": {},
   "outputs": [
    {
     "data": {
      "text/html": [
       "<div>\n",
       "<style scoped>\n",
       "    .dataframe tbody tr th:only-of-type {\n",
       "        vertical-align: middle;\n",
       "    }\n",
       "\n",
       "    .dataframe tbody tr th {\n",
       "        vertical-align: top;\n",
       "    }\n",
       "\n",
       "    .dataframe thead th {\n",
       "        text-align: right;\n",
       "    }\n",
       "</style>\n",
       "<table border=\"1\" class=\"dataframe\">\n",
       "  <thead>\n",
       "    <tr style=\"text-align: right;\">\n",
       "      <th></th>\n",
       "      <th>Autores</th>\n",
       "      <th>Livros</th>\n",
       "      <th>Precos</th>\n",
       "    </tr>\n",
       "  </thead>\n",
       "  <tbody>\n",
       "    <tr>\n",
       "      <th>0</th>\n",
       "      <td>Jorge</td>\n",
       "      <td>O ultimo</td>\n",
       "      <td>43.5</td>\n",
       "    </tr>\n",
       "  </tbody>\n",
       "</table>\n",
       "</div>"
      ],
      "text/plain": [
       "  Autores    Livros  Precos\n",
       "0   Jorge  O ultimo    43.5"
      ]
     },
     "execution_count": 27,
     "metadata": {},
     "output_type": "execute_result"
    }
   ],
   "source": [
    "df[mascara]"
   ]
  },
  {
   "cell_type": "code",
   "execution_count": 29,
   "id": "8374dff9-f368-4dc9-a35c-328af40d4cdf",
   "metadata": {},
   "outputs": [
    {
     "name": "stderr",
     "output_type": "stream",
     "text": [
      "C:\\Users\\jonas\\AppData\\Local\\Temp\\ipykernel_6672\\1217254175.py:1: FutureWarning: The frame.append method is deprecated and will be removed from pandas in a future version. Use pandas.concat instead.\n",
      "  df = df.append({\"Autores\": \"Jorge\", \"Livros\": \"O penultimo\", \"Precos\": 33.5}, ignore_index = True)\n"
     ]
    }
   ],
   "source": [
    "df = df.append({\"Autores\": \"Jorge\", \"Livros\": \"O penultimo\", \"Precos\": 33.5}, ignore_index = True)"
   ]
  },
  {
   "cell_type": "code",
   "execution_count": 42,
   "id": "4ea1e164-d93b-45e3-b3bb-7e381505c064",
   "metadata": {},
   "outputs": [
    {
     "data": {
      "text/plain": [
       "0           O ultimo\n",
       "3    O antepenultimo\n",
       "Name: Livros, dtype: object"
      ]
     },
     "execution_count": 42,
     "metadata": {},
     "output_type": "execute_result"
    }
   ],
   "source": [
    "#masc_corr = df[\"Autores\"] == \"Jorge\"\n",
    "#masc_corr\n",
    "df[df[\"Autores\"] == \"Jorge\"][\"Livros\"]\n"
   ]
  },
  {
   "cell_type": "code",
   "execution_count": 38,
   "id": "a4f8e347-98ee-4881-8676-d04f0c98e160",
   "metadata": {},
   "outputs": [],
   "source": [
    "df.loc[1, \"Livros\"] = \"O antepenultimo\""
   ]
  },
  {
   "cell_type": "code",
   "execution_count": 39,
   "id": "5b9ba7d7-446b-459f-9233-cd11b950b235",
   "metadata": {},
   "outputs": [
    {
     "data": {
      "text/html": [
       "<div>\n",
       "<style scoped>\n",
       "    .dataframe tbody tr th:only-of-type {\n",
       "        vertical-align: middle;\n",
       "    }\n",
       "\n",
       "    .dataframe tbody tr th {\n",
       "        vertical-align: top;\n",
       "    }\n",
       "\n",
       "    .dataframe thead th {\n",
       "        text-align: right;\n",
       "    }\n",
       "</style>\n",
       "<table border=\"1\" class=\"dataframe\">\n",
       "  <thead>\n",
       "    <tr style=\"text-align: right;\">\n",
       "      <th></th>\n",
       "      <th>Autores</th>\n",
       "      <th>Livros</th>\n",
       "      <th>Precos</th>\n",
       "    </tr>\n",
       "  </thead>\n",
       "  <tbody>\n",
       "    <tr>\n",
       "      <th>0</th>\n",
       "      <td>Jorge</td>\n",
       "      <td>O ultimo</td>\n",
       "      <td>43.5</td>\n",
       "    </tr>\n",
       "    <tr>\n",
       "      <th>1</th>\n",
       "      <td>martin</td>\n",
       "      <td>O antepenultimo</td>\n",
       "      <td>56.7</td>\n",
       "    </tr>\n",
       "    <tr>\n",
       "      <th>2</th>\n",
       "      <td>Jonas</td>\n",
       "      <td>Jogador</td>\n",
       "      <td>70.9</td>\n",
       "    </tr>\n",
       "    <tr>\n",
       "      <th>3</th>\n",
       "      <td>Jorge</td>\n",
       "      <td>O antepenultimo</td>\n",
       "      <td>33.5</td>\n",
       "    </tr>\n",
       "  </tbody>\n",
       "</table>\n",
       "</div>"
      ],
      "text/plain": [
       "  Autores           Livros  Precos\n",
       "0   Jorge         O ultimo    43.5\n",
       "1  martin  O antepenultimo    56.7\n",
       "2   Jonas          Jogador    70.9\n",
       "3   Jorge  O antepenultimo    33.5"
      ]
     },
     "execution_count": 39,
     "metadata": {},
     "output_type": "execute_result"
    }
   ],
   "source": [
    "df"
   ]
  },
  {
   "cell_type": "code",
   "execution_count": null,
   "id": "d56ad9e9-27a1-4d3d-abcb-8629fe609cf3",
   "metadata": {},
   "outputs": [],
   "source": []
  }
 ],
 "metadata": {
  "kernelspec": {
   "display_name": "Python 3 (ipykernel)",
   "language": "python",
   "name": "python3"
  },
  "language_info": {
   "codemirror_mode": {
    "name": "ipython",
    "version": 3
   },
   "file_extension": ".py",
   "mimetype": "text/x-python",
   "name": "python",
   "nbconvert_exporter": "python",
   "pygments_lexer": "ipython3",
   "version": "3.11.0"
  }
 },
 "nbformat": 4,
 "nbformat_minor": 5
}
