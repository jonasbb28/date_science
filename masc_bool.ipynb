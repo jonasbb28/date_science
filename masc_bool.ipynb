{
 "cells": [
  {
   "cell_type": "code",
   "execution_count": 1,
   "id": "6eb89d5b-db10-489d-93ca-65ccff5605b9",
   "metadata": {},
   "outputs": [],
   "source": [
    "# Mascara boolena\n",
    "import numpy as np"
   ]
  },
  {
   "cell_type": "code",
   "execution_count": 4,
   "id": "87882cf5-0e19-41d7-9c51-aececbe146d5",
   "metadata": {},
   "outputs": [],
   "source": [
    "is_covid_positive = np.array([\"Yes\", \"No\", \"No\", \"Yes\", \"Yes\", \"No\"])\n"
   ]
  },
  {
   "cell_type": "code",
   "execution_count": 5,
   "id": "b5115cf3-b3fc-4a0b-ab73-0ba623a793e7",
   "metadata": {},
   "outputs": [
    {
     "name": "stdout",
     "output_type": "stream",
     "text": [
      "['Yes' 'No' 'No' 'Yes' 'Yes' 'No']\n"
     ]
    }
   ],
   "source": [
    "print(is_covid_positive)"
   ]
  },
  {
   "cell_type": "code",
   "execution_count": 8,
   "id": "3d48d590-4054-4882-8cb9-1ffac750bef8",
   "metadata": {},
   "outputs": [
    {
     "name": "stdout",
     "output_type": "stream",
     "text": [
      "[ True False False  True  True False]\n"
     ]
    }
   ],
   "source": [
    "mask = (is_covid_positive == \"Yes\")\n",
    "print(mask)"
   ]
  },
  {
   "cell_type": "code",
   "execution_count": 11,
   "id": "baa5f2a7-b103-4955-af3c-d6a3bc9c6698",
   "metadata": {},
   "outputs": [],
   "source": [
    "is_covid_positive[mask] = \"C19\""
   ]
  },
  {
   "cell_type": "code",
   "execution_count": 12,
   "id": "b0095e02-b1f2-4c98-bf5c-f6d8048caaa2",
   "metadata": {},
   "outputs": [
    {
     "name": "stdout",
     "output_type": "stream",
     "text": [
      "['C19' 'No' 'No' 'C19' 'C19' 'No']\n"
     ]
    }
   ],
   "source": [
    "print(is_covid_positive)"
   ]
  },
  {
   "cell_type": "code",
   "execution_count": 13,
   "id": "ebaecb7c-a5f9-42f4-ab6c-a40c0c2409b7",
   "metadata": {},
   "outputs": [],
   "source": [
    "notas = np.array([4.9,6.5,3.2,6.7])\n",
    "mask_notas = notas >= 5"
   ]
  },
  {
   "cell_type": "code",
   "execution_count": 14,
   "id": "42dbdc9a-7c1b-4c11-9edf-97c59579b0b5",
   "metadata": {},
   "outputs": [
    {
     "name": "stdout",
     "output_type": "stream",
     "text": [
      "[False  True False  True]\n"
     ]
    }
   ],
   "source": [
    "print(mask_notas)"
   ]
  },
  {
   "cell_type": "code",
   "execution_count": null,
   "id": "b67a5db9-91c3-4e86-a66d-40387a453cf7",
   "metadata": {},
   "outputs": [],
   "source": []
  },
  {
   "cell_type": "markdown",
   "id": "eb939a79-9acd-4cdb-bfce-c28da8541f6f",
   "metadata": {},
   "source": []
  },
  {
   "cell_type": "code",
   "execution_count": 15,
   "id": "a8c2682e-1340-40a3-9205-c53de70556f5",
   "metadata": {},
   "outputs": [
    {
     "name": "stdin",
     "output_type": "stream",
     "text": [
      "Digite uma nota:  8.9\n",
      "Digite uma nota:  9.0\n",
      "Digite uma nota:  5.5\n",
      "Digite uma nota:  4.5\n",
      "Digite uma nota:  3.0\n",
      "Digite uma nota:  7.9\n",
      "Digite uma nota:  6.7\n",
      "Digite uma nota:  5.9\n",
      "Digite uma nota:  4.6\n",
      "Digite uma nota:  2.8\n"
     ]
    },
    {
     "name": "stdout",
     "output_type": "stream",
     "text": [
      "[8.9 9.  5.5 4.5 3.  7.9 6.7 5.9 4.6 2.8]\n",
      "[ True  True False False False  True  True False False False]\n"
     ]
    }
   ],
   "source": [
    "notas = []\n",
    "for i in range(10):\n",
    "    nota = float(input(\"Digite uma nota: \"))\n",
    "    notas.append(nota)\n",
    "\n",
    "notas = np.array(notas)\n",
    "mask = notas >= 6\n",
    "print(notas)\n",
    "print(mask)"
   ]
  },
  {
   "cell_type": "code",
   "execution_count": null,
   "id": "97b88abc-24d1-4d8f-a051-cbbdff5e0fe4",
   "metadata": {},
   "outputs": [],
   "source": [
    "notas[mask] = "
   ]
  }
 ],
 "metadata": {
  "kernelspec": {
   "display_name": "Python 3 (ipykernel)",
   "language": "python",
   "name": "python3"
  },
  "language_info": {
   "codemirror_mode": {
    "name": "ipython",
    "version": 3
   },
   "file_extension": ".py",
   "mimetype": "text/x-python",
   "name": "python",
   "nbconvert_exporter": "python",
   "pygments_lexer": "ipython3",
   "version": "3.11.0"
  }
 },
 "nbformat": 4,
 "nbformat_minor": 5
}
