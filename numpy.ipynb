{
 "cells": [
  {
   "cell_type": "code",
   "execution_count": 7,
   "id": "8dc7c602-b2a5-4bbd-83bb-e86745184ca9",
   "metadata": {},
   "outputs": [],
   "source": [
    "import sklearn\n",
    "import pandas\n",
    "import numpy as np\n",
    "import matplotlib"
   ]
  },
  {
   "cell_type": "code",
   "execution_count": null,
   "id": "9ae08562-ddec-4e69-af8e-44884b99c17a",
   "metadata": {},
   "outputs": [],
   "source": [
    "lista = [1, 2, 3, 4]\n",
    "\n",
    "array = np.array(lista)"
   ]
  },
  {
   "cell_type": "code",
   "execution_count": null,
   "id": "1f7f6ca1-d957-4331-8279-02ca78316eac",
   "metadata": {},
   "outputs": [],
   "source": [
    "arr_zeros = np.zeros(10) # array com 10 zeros"
   ]
  },
  {
   "cell_type": "code",
   "execution_count": 8,
   "id": "287218a1-91c1-475a-b89d-2e2f3640ee11",
   "metadata": {},
   "outputs": [
    {
     "name": "stdout",
     "output_type": "stream",
     "text": [
      "[[0. 0. 0.]\n",
      " [0. 0. 0.]\n",
      " [0. 0. 0.]\n",
      " [0. 0. 0.]\n",
      " [0. 0. 0.]]\n"
     ]
    }
   ],
   "source": [
    "# matrizes\n",
    "matriz_zeros = np.zeros((5,3))\n",
    "print(matriz_zeros)"
   ]
  },
  {
   "cell_type": "code",
   "execution_count": 10,
   "id": "3fb1fa41-9680-4c2f-a56b-266a56fb076f",
   "metadata": {},
   "outputs": [],
   "source": [
    "# notas de aluno\n",
    "lista_notas = [9.8, 5.6, 7.8, 6.5, 9.1]\n",
    "\n",
    "notas = np.array(lista_notas)"
   ]
  },
  {
   "cell_type": "code",
   "execution_count": 13,
   "id": "f3b7f529-77e8-4c41-afa1-51999234e316",
   "metadata": {},
   "outputs": [
    {
     "name": "stdout",
     "output_type": "stream",
     "text": [
      "Maximo 9.8\n",
      "Minimo 5.6\n",
      "Desvio padrão 1.5628179676469045\n",
      "Media 7.76\n",
      "Posição menor 1\n",
      "\n"
     ]
    }
   ],
   "source": [
    "print(f\"Maximo {notas.max()}\")\n",
    "print(f\"Minimo {notas.min()}\")\n",
    "print(f\"Desvio padrão {notas.std()}\")\n",
    "print(f\"Media {notas.mean()}\")\n",
    "print(f\"Posição menor {notas.argmin()}\")\n",
    "print(f\"\")"
   ]
  },
  {
   "cell_type": "code",
   "execution_count": null,
   "id": "245bff18-392e-4bb4-9c34-68b8cb811aa2",
   "metadata": {},
   "outputs": [],
   "source": []
  }
 ],
 "metadata": {
  "kernelspec": {
   "display_name": "Python 3 (ipykernel)",
   "language": "python",
   "name": "python3"
  },
  "language_info": {
   "codemirror_mode": {
    "name": "ipython",
    "version": 3
   },
   "file_extension": ".py",
   "mimetype": "text/x-python",
   "name": "python",
   "nbconvert_exporter": "python",
   "pygments_lexer": "ipython3",
   "version": "3.11.0"
  }
 },
 "nbformat": 4,
 "nbformat_minor": 5
}
